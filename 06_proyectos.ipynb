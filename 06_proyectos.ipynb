{
  "nbformat": 4,
  "nbformat_minor": 0,
  "metadata": {
    "colab": {
      "provenance": [],
      "authorship_tag": "ABX9TyM+xvcyOIo2WjDgZpSRgWlb",
      "include_colab_link": true
    },
    "kernelspec": {
      "name": "python3",
      "display_name": "Python 3"
    },
    "language_info": {
      "name": "python"
    }
  },
  "cells": [
    {
      "cell_type": "markdown",
      "metadata": {
        "id": "view-in-github",
        "colab_type": "text"
      },
      "source": [
        "<a href=\"https://colab.research.google.com/github/miquelnebotaragon/mis_primeros_pasos_en_python/blob/main/06_proyectos.ipynb\" target=\"_parent\"><img src=\"https://colab.research.google.com/assets/colab-badge.svg\" alt=\"Open In Colab\"/></a>"
      ]
    },
    {
      "cell_type": "markdown",
      "source": [
        "# Vamos a contar letras\n",
        "La palabra más larga aceptada en castellano por la RAE es __electroencefalografista__.\n",
        "\n",
        "🔴 ¿Sabrías construir tu propio programa para que el ordenador __calcule cuantas letras tiene la palabra introducida por el usuario/a__?\n",
        "\n",
        "✨ ¡Ánimo, que es sencillo!"
      ],
      "metadata": {
        "id": "9_Uo2SUGxLO_"
      }
    },
    {
      "cell_type": "code",
      "source": [
        "# -*- coding: utf-8 -*-\n",
        "# Miquel Nebot · @miquelnebot · Agosto 2023\n",
        "\n",
        "# Variables\n",
        "palabra = input('Introduce una palabra: ')\n",
        "letras = len(palabra)\n",
        "\n",
        "# Ejecución\n",
        "if letras < 23:\n",
        "  print(f'La palabra introducida, {palabra}, tiene un total de {letras} letras'\n",
        "  f' pero todavía existe una más larga en el diccionario con... ¡23!')\n",
        "else:\n",
        "  print(f'La palabra introducida, {palabra}, tiene 23 letras y es la más larga'\n",
        "  f' aceptada en el diccionario de la RAE. ¡Enhorabuena!')"
      ],
      "metadata": {
        "id": "OFj_x0BmxeYz"
      },
      "execution_count": null,
      "outputs": []
    },
    {
      "cell_type": "markdown",
      "source": [
        "# Calculadora"
      ],
      "metadata": {
        "id": "tyXqlBkgcydl"
      }
    },
    {
      "cell_type": "code",
      "execution_count": null,
      "metadata": {
        "id": "IrVGqsM8cvZo"
      },
      "outputs": [],
      "source": [
        "# -*- coding: utf-8 -*-\n",
        "# Miquel Nebot · @miquelnebot · Agosto 2023\n",
        "\n",
        "# Variables\n",
        "numero1 = float(input(\"Introduce ahora tu primer número: \") )\n",
        "numero2 = float(input(\"Introduce a continuación tu segundo número: \") )\n",
        "\n",
        "# Ejecución de la estructura de flujo iterativa (contiene condicional)\n",
        "while True:\n",
        "    print('''\n",
        "    ¿Qué tipo de operación deseas realizar ahora?\n",
        "\n",
        "    1) Sumar\n",
        "    2) Restar\n",
        "    3) Multiplicar\n",
        "    4) Dividir\n",
        "    5) Introducir nuevos valores\n",
        "    6) Salir\n",
        "    ''')\n",
        "    opcion = int(input(\"Elige una opción: \") )\n",
        "\n",
        "    if opcion == 1:\n",
        "        print('')\n",
        "        print('RESULTADO: La suma de',numero1,'+',numero2,'es',numero1+numero2)\n",
        "    elif opcion == 2:\n",
        "        print('')\n",
        "        print('RESULTADO: La resta de',numero1,'-',numero2,'es',numero1-numero2)\n",
        "    elif opcion == 3:\n",
        "        print('')\n",
        "        print('RESULTADO: El producto de',numero1,'x',numero2,'es',numero1*numero2)\n",
        "    elif opcion == 4:\n",
        "        print('')\n",
        "        print('RESULTADO: El cociente entre',numero1,'/',numero2,'es',numero1/numero2)\n",
        "    elif opcion == 5:\n",
        "        numero1 = float(input('Introduce ahora tu primer número: ') )\n",
        "        numero2 = float(input('Introduce ahora tu segundo número: ') )\n",
        "    elif opcion == 6:\n",
        "        break\n",
        "    else:\n",
        "        print(\"¡Opción incorrecta!\")"
      ]
    },
    {
      "cell_type": "markdown",
      "source": [
        "# Tarot"
      ],
      "metadata": {
        "id": "ZKZHiXVfeNb7"
      }
    },
    {
      "cell_type": "code",
      "source": [
        "# -*- coding: utf-8 -*-\n",
        "# Miquel Nebot · @miquelnebot · Agosto 2023\n",
        "\n",
        "# Importación de módulos\n",
        "import random\n",
        "\n",
        "# Variables\n",
        "respuestas = ('¡De ninguna manera!','Sabes bien que sí...','¡No lo dudes!',\n",
        "              '¿Estás de guasa?','No lo sé, empieza de nuevo y pregúntame otra vez')\n",
        "\n",
        "# Ejecución\n",
        "print('Bienvenido al \\\"Tarot Mágico\\\".\\n')\n",
        "\n",
        "pregunta = input(f'Pregúntame lo que quieras y cierra los ojos, en un momento'\n",
        "f' tendré una respuesta para ti...')\n",
        "print('\\nUmmm....'*4)\n",
        "\n",
        "eleccion = random.randint(0,4)\n",
        "print(respuestas[eleccion])\n",
        "\n",
        "input('\\nPara salir pulsa INTRO.')\n"
      ],
      "metadata": {
        "id": "ZbEkP8zKeLC7"
      },
      "execution_count": null,
      "outputs": []
    },
    {
      "cell_type": "markdown",
      "source": [
        "# Calculando áreas"
      ],
      "metadata": {
        "id": "ZQpOx9rRempS"
      }
    },
    {
      "cell_type": "code",
      "source": [
        "# -*- coding: utf-8 -*-\n",
        "# Miquel Nebot · @miquelnebot · Agosto 2023\n",
        "\n",
        "# Importación de módulos\n",
        "import math # Con este conseguiremos mayor precisión a la hora de utilizar pi.\n",
        "import time # Con este detendremos momentáneamente la ejecución del programa.\n",
        "\n",
        "# Declaración de funciones\n",
        "def area_cuadrado (f1_lado):\n",
        "  f1_area = f1_lado * f1_lado\n",
        "  return f1_area\n",
        "\n",
        "def area_rectangulo (f2_base, f2_altura):\n",
        "  f2_area = f2_base * f2_altura\n",
        "  return f2_area\n",
        "\n",
        "def area_triangulo (f3_base, f3_altura):\n",
        "  f3_area = (f3_base * f3_altura)/2\n",
        "  return f3_area\n",
        "\n",
        "def area_circulo (f4_radio):\n",
        "  f4_area = math.pi * (f4_radio ** 2) # Uso de \"math\" para disponer de pi.\n",
        "  return f4_area\n",
        "\n",
        "def area_paralelogramo (f5_base, f5_altura):\n",
        "  f5_area = f5_base * f5_altura\n",
        "  return f5_area\n",
        "\n",
        "def area_rombo (f6_dia_menor, f6_dia_mayor):\n",
        "  f6_area = (f6_dia_menor * f6_dia_mayor)/2\n",
        "  return f6_area\n",
        "\n",
        "def area_pol_regular (f7_perimetro, f7_apotema):\n",
        "  f7_area = (f7_perimetro * f7_apotema)/2\n",
        "  return f7_area\n",
        "\n",
        "# Ejecución de la estructura de control de flujo iterativa\n",
        "while True:\n",
        "  print('''\n",
        "  ¿De qué figura deseas calcular su área?\n",
        "\n",
        "  1) Cuadrado\n",
        "  2) Rectángulo\n",
        "  3) Triángulo\n",
        "  4) Círculo\n",
        "  5) Paralelogramo\n",
        "  6) Rombo\n",
        "  7) Polígono regular\n",
        "  8) Salir\n",
        "  ''')\n",
        "  opcion = int(input('Introduce la opción deseada: '))\n",
        "\n",
        "  if opcion == 1:\n",
        "    f1_lado = float(input('Introduce la longitud de uno de sus lados: '))\n",
        "    print(f'El área del cuadrado es {area_cuadrado(f1_lado)}'\n",
        "    f' (en unidades al cuadrado).')\n",
        "\n",
        "  elif opcion == 2:\n",
        "    f2_base = float(input('Introduce la longitud de la base del rectángulo: '))\n",
        "    f2_altura = float(input('Introduce ahora su altura: '))\n",
        "    print(f'El área del rectángulo es {area_rectangulo(f2_base, f2_altura)}'\n",
        "    f' (en unidades al cuadrado).')\n",
        "\n",
        "  elif opcion == 3:\n",
        "    f3_base = float(input(f'Introduce la longitud de la base del triángulo: '))\n",
        "    f3_altura = float(input(f'Ahora su altura: '))\n",
        "    print(f'El área del triángulo es {area_triangulo(f3_base, f3_altura)}'\n",
        "    f' (en unidades al cuadrado).')\n",
        "\n",
        "  elif opcion == 4:\n",
        "    f4_radio = float(input('Introduce el radio del circulo: '))\n",
        "    print(f'El área del círculo es {area_circulo(f4_radio)}'\n",
        "    f' (en unidades al cuadrado).')\n",
        "\n",
        "  elif opcion == 5:\n",
        "    f5_base = float(input('Introduce la longitud de la base del paralelogramo: '))\n",
        "    f5_altura = float(input('Introduce ahora la altura: '))\n",
        "    print(f'El área del paralelogramo es'\n",
        "    f' {area_paralelogramo(f5_base, f5_altura)} (en unidades al cuadrado).')\n",
        "\n",
        "  elif opcion == 6:\n",
        "    f6_dia_menor = float(input('Introduce la longitud de la diagonal menor\\\n",
        " del rombo: '))\n",
        "    f6_dia_mayor = float(input('Introduce ahora la diagonal mayor: '))\n",
        "    print(f'El área del rombo es {area_rombo(f6_dia_menor, f6_dia_mayor)}'\n",
        "    f' (en unidades al cuadrado).')\n",
        "\n",
        "  elif opcion == 7:\n",
        "    f7_perimetro = float(input('Introduce el perímetro del polígono: '))\n",
        "    f7_apotema = float(input('Introduce ahora su apotema: '))\n",
        "    print(f'El área del polígono regular es'\n",
        "    f' {area_pol_regular(f7_perimetro, f7_apotema)} (en unidades al cuadrado).')\n",
        "\n",
        "  elif opcion == 8:\n",
        "    time.sleep(1) # Uso de \"time\" para pausar la ejecución temporalmente.\n",
        "    print('¡Gracias por utilizar este servicio!')\n",
        "    break\n",
        "\n",
        "  else:\n",
        "    print(f'Opción no válida, introduce un número entre 1 y 8 teniendo en'\n",
        "    f' cuenta las opciones anteriores.')"
      ],
      "metadata": {
        "id": "nrRtKf8Fel64"
      },
      "execution_count": null,
      "outputs": []
    }
  ]
}
